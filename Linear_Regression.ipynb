{
 "cells": [
  {
   "cell_type": "markdown",
   "metadata": {},
   "source": [
    "# <center>Đồ án : Linear Regression</center>"
   ]
  },
  {
   "cell_type": "markdown",
   "metadata": {},
   "source": [
    "# Import"
   ]
  },
  {
   "cell_type": "code",
   "execution_count": 1,
   "metadata": {},
   "outputs": [],
   "source": [
    "import pandas as pd\n",
    "import numpy as np\n",
    "from sklearn import linear_model\n",
    "from sklearn.preprocessing import StandardScaler\n",
    "from sklearn.metrics import mean_squared_error, mean_absolute_error, r2_score\n",
    "from sklearn.linear_model import LinearRegression\n",
    "from sklearn.model_selection import cross_val_score, KFold\n",
    "from sklearn.metrics import mean_absolute_error\n",
    "from sklearn.feature_selection import SelectKBest, f_regression\n",
    "# Import thư viện"
   ]
  },
  {
   "cell_type": "markdown",
   "metadata": {},
   "source": [
    "# Đọc dữ liệu"
   ]
  },
  {
   "cell_type": "code",
   "execution_count": 2,
   "metadata": {},
   "outputs": [
    {
     "data": {
      "text/plain": [
       "Index(['Gender', '10percentage', '12percentage', 'CollegeTier', 'Degree',\n",
       "       'collegeGPA', 'CollegeCityTier', 'English', 'Logical', 'Quant',\n",
       "       'Domain', 'ComputerProgramming', 'ElectronicsAndSemicon',\n",
       "       'ComputerScience', 'MechanicalEngg', 'ElectricalEngg', 'TelecomEngg',\n",
       "       'CivilEngg', 'conscientiousness', 'agreeableness', 'extraversion',\n",
       "       'nueroticism', 'openess_to_experience', 'Salary'],\n",
       "      dtype='object')"
      ]
     },
     "execution_count": 2,
     "metadata": {},
     "output_type": "execute_result"
    }
   ],
   "source": [
    "# Đọc dữ liệu bằng pandas\n",
    "train = pd.read_csv('train.csv')\n",
    "test = pd.read_csv('test.csv')\n",
    "\n",
    "# Lấy các đặc trưng X và giá trị mục tiêu y cho các tập huấn luyện (train) và kiểm tra (test)\n",
    "X_train = train.iloc[:, :-1]    # Dataframe (chứa các đặc trưng huấn luyện)\n",
    "y_train = train.iloc[:, -1]     # Series    (chứa 1 giá trị mục tiêu kiểm tra)\n",
    "\n",
    "X_test = test.iloc[:, :-1]      # Dataframe (chứa các đặc trưng kiểm tra)\n",
    "y_test = test.iloc[:, -1]       # Series    (chứa 1 giá trị mục tiêu kiểm tra)\n",
    "train.columns"
   ]
  },
  {
   "cell_type": "markdown",
   "metadata": {},
   "source": [
    "# Sử dụng toàn bộ 11 đặc trưng đầu tiên `Gender`, `10percentage`, `12percentage`, `CollegeTier`, `Degree`, `collegeGPA`, `CollegeCityTier`, `English`, `Logical`, `Quant`, `Domain` "
   ]
  },
  {
   "cell_type": "code",
   "execution_count": 4,
   "metadata": {},
   "outputs": [
    {
     "data": {
      "text/plain": [
       "(array([-23183.32950765,    702.76679172,   1259.0187879 , -99570.60814074,\n",
       "         18369.9624496 ,   1297.53200035,  -8836.727123  ,    141.75993906,\n",
       "           145.74234652,    114.64331342,  34955.75040521]),\n",
       " 49248.08973481221)"
      ]
     },
     "execution_count": 4,
     "metadata": {},
     "output_type": "execute_result"
    }
   ],
   "source": [
    "\n",
    "features = ['Gender', '10percentage', '12percentage', 'CollegeTier', 'Degree', 'collegeGPA', 'CollegeCityTier', 'English', 'Logical', 'Quant', 'Domain']\n",
    "linear=linear_model.LinearRegression()\n",
    "linear.fit(train[features],y_train)\n",
    "\n",
    "w=linear.coef_\n",
    "b=linear.intercept_\n",
    "w,b\n"
   ]
  },
  {
   "cell_type": "code",
   "execution_count": 5,
   "metadata": {},
   "outputs": [
    {
     "name": "stdout",
     "output_type": "stream",
     "text": [
      "MAE: 105052.530\n"
     ]
    }
   ],
   "source": [
    "# Gọi hàm MAE \n",
    "y_pred = linear.predict(test[features])\n",
    "# Đánh giá mô hình\n",
    "mae = mean_absolute_error(y_test, y_pred)\n",
    "print(f\"MAE: {mae:.3f}\")"
   ]
  },
  {
   "cell_type": "markdown",
   "metadata": {},
   "source": [
    "Công thức hồi quy (phần trọng số làm tròn đến 3 chữ số thập phân, ví dụ 0.012345 $\\to$ 0.012)\n",
    "\n",
    "$$\\begin{array}{l}\n",
    "\\text{Salary} =49248.090  - 23183.330*Gender + 702.767*10percentage + 1259.019*12percentage - 99570.608*CollegeTier\\\\\n",
    "\\,\\,\\,\\,\\,\\,\\,\\,\\,\\,\\,\\,\\,\\,\\,\\,\\,\\,\\,\\,\\,\\,\\,\\,\\,\\,\\,\\,\\,\\,\\,\\,\\,\\,\\,\\,\\,\\,\\, +  18369.962*Degree + 1297.532*collegeGPA  - 8836.727*CollegeCityTier + 141.760*English\\\\\n",
    "\\,\\,\\,\\,\\,\\,\\,\\,\\,\\,\\,\\,\\,\\,\\,\\,\\,\\,\\,\\,\\,\\,\\,\\,\\,\\,\\,\\,\\,\\,\\,\\,\\,\\,\\,\\,\\,\\,\\, + 145.742*Logical + 114.643*Quant + 34955.750* Domain \n",
    "\\end{array}$$"
   ]
  },
  {
   "cell_type": "markdown",
   "metadata": {},
   "source": [
    "# Xây dựng mô hình sử dụng duy nhất 1 đặc trưng tính cách với các đặc trưng tính cách gồm `conscientiousness`, `agreeableness`, `extraversion`, `nueroticism`, `openess_to_experience`, tìm mô hình cho kết quả tốt nhất "
   ]
  },
  {
   "cell_type": "markdown",
   "metadata": {},
   "source": [
    "Khi sử dụng cross-validation, xáo trộn dữ liệu 1 lần duy nhất và thực hiện trên toàn bộ đặc trưng"
   ]
  },
  {
   "cell_type": "code",
   "execution_count": 6,
   "metadata": {},
   "outputs": [
    {
     "data": {
      "text/html": [
       "<style type=\"text/css\">\n",
       "</style>\n",
       "<table id=\"T_35fe9\">\n",
       "  <thead>\n",
       "    <tr>\n",
       "      <th id=\"T_35fe9_level0_col0\" class=\"col_heading level0 col0\" >STT</th>\n",
       "      <th id=\"T_35fe9_level0_col1\" class=\"col_heading level0 col1\" >Mô hình với 1 đặc trưng</th>\n",
       "      <th id=\"T_35fe9_level0_col2\" class=\"col_heading level0 col2\" >MAE</th>\n",
       "    </tr>\n",
       "  </thead>\n",
       "  <tbody>\n",
       "    <tr>\n",
       "      <td id=\"T_35fe9_row0_col0\" class=\"data row0 col0\" >1</td>\n",
       "      <td id=\"T_35fe9_row0_col1\" class=\"data row0 col1\" >conscientiousness</td>\n",
       "      <td id=\"T_35fe9_row0_col2\" class=\"data row0 col2\" >124025.766596</td>\n",
       "    </tr>\n",
       "    <tr>\n",
       "      <td id=\"T_35fe9_row1_col0\" class=\"data row1 col0\" >2</td>\n",
       "      <td id=\"T_35fe9_row1_col1\" class=\"data row1 col1\" >agreeableness</td>\n",
       "      <td id=\"T_35fe9_row1_col2\" class=\"data row1 col2\" >123515.372143</td>\n",
       "    </tr>\n",
       "    <tr>\n",
       "      <td id=\"T_35fe9_row2_col0\" class=\"data row2 col0\" >3</td>\n",
       "      <td id=\"T_35fe9_row2_col1\" class=\"data row2 col1\" >extraversion</td>\n",
       "      <td id=\"T_35fe9_row2_col2\" class=\"data row2 col2\" >123696.782652</td>\n",
       "    </tr>\n",
       "    <tr>\n",
       "      <td id=\"T_35fe9_row3_col0\" class=\"data row3 col0\" >4</td>\n",
       "      <td id=\"T_35fe9_row3_col1\" class=\"data row3 col1\" >nueroticism</td>\n",
       "      <td id=\"T_35fe9_row3_col2\" class=\"data row3 col2\" >123472.421732</td>\n",
       "    </tr>\n",
       "    <tr>\n",
       "      <td id=\"T_35fe9_row4_col0\" class=\"data row4 col0\" >5</td>\n",
       "      <td id=\"T_35fe9_row4_col1\" class=\"data row4 col1\" >openess_to_experience</td>\n",
       "      <td id=\"T_35fe9_row4_col2\" class=\"data row4 col2\" >123713.990221</td>\n",
       "    </tr>\n",
       "  </tbody>\n",
       "</table>\n"
      ],
      "text/plain": [
       "<pandas.io.formats.style.Styler at 0x21f65a1e830>"
      ]
     },
     "metadata": {},
     "output_type": "display_data"
    }
   ],
   "source": [
    "personality_features = ['conscientiousness', 'agreeableness', 'extraversion', 'nueroticism', 'openess_to_experience']\n",
    "train_b = pd.read_csv('train.csv')\n",
    "train_data_shuffled = train_b.sample(frac=1, random_state=42)\n",
    "mae_scores = []\n",
    "\n",
    "mae_scores = []\n",
    "\n",
    "data = []\n",
    "for i, feature in enumerate(personality_features):\n",
    "    X = train_data_shuffled[[feature]]\n",
    "    y = train_data_shuffled['Salary']\n",
    "    \n",
    "    model = LinearRegression()\n",
    "    \n",
    "    kfold = KFold(n_splits=5, shuffle=True, random_state=42)\n",
    "    mae = -cross_val_score(model, X, y, cv=kfold, scoring='neg_mean_absolute_error').mean()\n",
    "    mae_scores.append(mae)\n",
    "    \n",
    "    data.append([i+1, feature, mae])\n",
    "\n",
    "df = pd.DataFrame(data, columns=[\"STT\", \"Mô hình với 1 đặc trưng\", \"MAE\"])\n",
    "styled_df = df.style.hide(axis=\"index\")\n",
    "display(styled_df)\n"
   ]
  },
  {
   "cell_type": "code",
   "execution_count": 7,
   "metadata": {},
   "outputs": [
    {
     "name": "stdout",
     "output_type": "stream",
     "text": [
      "\n",
      "Best Feature: nueroticism\n"
     ]
    }
   ],
   "source": [
    "best_feature_index = mae_scores.index(min(mae_scores))\n",
    "best_feature = personality_features[best_feature_index]\n",
    "print(f\"\\nBest Feature: {best_feature}\")"
   ]
  },
  {
   "cell_type": "code",
   "execution_count": 8,
   "metadata": {},
   "outputs": [],
   "source": [
    "# Huấn luyện lại mô hình best_personality_feature_model với đặc trưng tốt nhất trên toàn bộ tập huấn luyện\n",
    "X_best = train_b[[best_feature]]\n",
    "y_best = train_b['Salary']\n",
    "\n",
    "model_best = LinearRegression()\n",
    "model_best.fit(X_best, y_best)\n",
    "\n",
    "best_coefficient = model_best.coef_[0]\n",
    "best_intercept = model_best.intercept_\n",
    "\n"
   ]
  },
  {
   "cell_type": "code",
   "execution_count": 9,
   "metadata": {},
   "outputs": [
    {
     "name": "stdout",
     "output_type": "stream",
     "text": [
      "MAE on Test Data with Best Personality Feature: 119361.917\n"
     ]
    }
   ],
   "source": [
    "# Gọi hàm MAE (tự cài đặt hoặc từ thư viện) trên tập kiểm tra với mô hình best_personality_feature_model\n",
    "X_test_best = test[[best_feature]]\n",
    "y_test_pred = model_best.predict(X_test_best)\n",
    "\n",
    "mae_test = mean_absolute_error(test['Salary'], y_test_pred)\n",
    "print(f\"MAE on Test Data with Best Personality Feature: {mae_test:.3f}\")\n"
   ]
  },
  {
   "cell_type": "markdown",
   "metadata": {},
   "source": [
    "Công thức hồi quy (phần trọng số làm tròn đến 3 chữ số thập phân, ví dụ 0.012345 $\\to$ 0.012)\n",
    "\n",
    "$$\\text{Salary} = 304647.553 - 16021.494* nueroticism$$"
   ]
  },
  {
   "cell_type": "markdown",
   "metadata": {},
   "source": [
    "# Xây dựng mô hình sử dụng duy nhất 1 đặc trưng `English`, `Logical`, `Quant`, tìm mô hình cho kết quả tốt nhất "
   ]
  },
  {
   "cell_type": "code",
   "execution_count": 10,
   "metadata": {},
   "outputs": [
    {
     "name": "stdout",
     "output_type": "stream",
     "text": [
      "\n",
      "Best Skill Feature: Quant\n"
     ]
    }
   ],
   "source": [
    "features_skill = ['English', 'Logical', 'Quant']\n",
    "# Xáo trộn dữ liệu một lần duy nhất\n",
    "train_data_shuffled = train.sample(frac=1, random_state=42)\n",
    "# Tìm ra đặc trưng tốt nhất\n",
    "# Tính toán MAE bằng k-fold Cross Validation cho từng đặc trưng\n",
    "mae_scores = []\n",
    "\n",
    "\n",
    "for i, feature in enumerate(features_skill):\n",
    "    X = train_data_shuffled[[feature]]\n",
    "    y = train_data_shuffled['Salary']\n",
    "    \n",
    "    model = LinearRegression()\n",
    "    \n",
    "    # Sử dụng k-fold Cross Validation để tính MAE\n",
    "    kfold = KFold(n_splits=5, shuffle=True, random_state=42)\n",
    "    mae = -cross_val_score(model, X, y, cv=kfold, scoring='neg_mean_absolute_error').mean()\n",
    "    mae_scores.append(mae)\n",
    "    \n",
    "    \n",
    "best_skill_feature_index = mae_scores.index(min(mae_scores))\n",
    "best_skill_feature = features_skill[best_skill_feature_index]\n",
    "print(f\"\\nBest Skill Feature: {best_skill_feature}\")\n",
    "\n"
   ]
  },
  {
   "cell_type": "code",
   "execution_count": 11,
   "metadata": {},
   "outputs": [
    {
     "data": {
      "text/html": [
       "<div>\n",
       "<style scoped>\n",
       "    .dataframe tbody tr th:only-of-type {\n",
       "        vertical-align: middle;\n",
       "    }\n",
       "\n",
       "    .dataframe tbody tr th {\n",
       "        vertical-align: top;\n",
       "    }\n",
       "\n",
       "    .dataframe thead th {\n",
       "        text-align: right;\n",
       "    }\n",
       "</style>\n",
       "<table border=\"1\" class=\"dataframe\">\n",
       "  <thead>\n",
       "    <tr style=\"text-align: right;\">\n",
       "      <th></th>\n",
       "      <th>STT</th>\n",
       "      <th>Feature</th>\n",
       "      <th>MAE</th>\n",
       "    </tr>\n",
       "  </thead>\n",
       "  <tbody>\n",
       "    <tr>\n",
       "      <th>0</th>\n",
       "      <td>1</td>\n",
       "      <td>English</td>\n",
       "      <td>120699.168730</td>\n",
       "    </tr>\n",
       "    <tr>\n",
       "      <th>1</th>\n",
       "      <td>2</td>\n",
       "      <td>Logical</td>\n",
       "      <td>120026.708549</td>\n",
       "    </tr>\n",
       "    <tr>\n",
       "      <th>2</th>\n",
       "      <td>3</td>\n",
       "      <td>Quant</td>\n",
       "      <td>117343.403934</td>\n",
       "    </tr>\n",
       "  </tbody>\n",
       "</table>\n",
       "</div>"
      ],
      "text/plain": [
       "   STT  Feature            MAE\n",
       "0    1  English  120699.168730\n",
       "1    2  Logical  120026.708549\n",
       "2    3    Quant  117343.403934"
      ]
     },
     "execution_count": 11,
     "metadata": {},
     "output_type": "execute_result"
    }
   ],
   "source": [
    "# In ra các kết quả cross-validation \n",
    "data = []\n",
    "for i, feature in enumerate(features_skill):\n",
    "    data.append([i+1, feature, mae_scores[i]])\n",
    "\n",
    "df = pd.DataFrame(data, columns=[\"STT\", \"Feature\", \"MAE\"])\n",
    "df"
   ]
  },
  {
   "cell_type": "code",
   "execution_count": 12,
   "metadata": {},
   "outputs": [],
   "source": [
    "# Huấn luyện lại mô hình best_skill_feature_model với đặc trưng tốt nhất trên toàn bộ tập huấn luyện\n",
    "X_best_skill = train_data_shuffled[[best_skill_feature]]\n",
    "y_best_skill = train_data_shuffled['Salary']\n",
    "\n",
    "model_best_skill = LinearRegression()\n",
    "model_best_skill.fit(X_best_skill, y_best_skill)\n",
    "\n",
    "best_skill_coefficient = model_best_skill.coef_[0]\n",
    "best_skill_intercept = model_best_skill.intercept_\n"
   ]
  },
  {
   "cell_type": "code",
   "execution_count": 13,
   "metadata": {},
   "outputs": [
    {
     "name": "stdout",
     "output_type": "stream",
     "text": [
      "\n",
      "MAE on Test Data with Best Skill Feature: 108814.060\n"
     ]
    }
   ],
   "source": [
    "# Gọi hàm MAE trên tập kiểm tra với mô hình best_skill_feature_model\n",
    "X_test_best_skill = test[[best_skill_feature]]\n",
    "y_test_pred_best_skill = model_best_skill.predict(X_test_best_skill)\n",
    "\n",
    "mae_test_best_skill = mean_absolute_error(test['Salary'], y_test_pred_best_skill)\n",
    "print(f\"\\nMAE on Test Data with Best Skill Feature: {mae_test_best_skill:.3f}\")"
   ]
  },
  {
   "cell_type": "markdown",
   "metadata": {},
   "source": [
    "Công thức hồi quy (phần trọng số làm tròn đến 3 chữ số thập phân, ví dụ 0.012345 $\\to$ 0.012)\n",
    "\n",
    "$$\\text{Salary} = 117759.729 + 368.852*Quant$$"
   ]
  },
  {
   "cell_type": "markdown",
   "metadata": {},
   "source": [
    "# Tự xây dựng mô hình, tìm mô hình cho kết quả tốt nhất"
   ]
  },
  {
   "cell_type": "markdown",
   "metadata": {},
   "source": [
    "## Tìm mô hình"
   ]
  },
  {
   "cell_type": "code",
   "execution_count": 35,
   "metadata": {},
   "outputs": [],
   "source": [
    "# Trình bày các phần tìm ra mô hình\n",
    "def best_multifeature(train, k_fold=5):\n",
    "    best_mae = float('inf')\n",
    "    best_features = None\n",
    "    mae_arr = []\n",
    "\n",
    "    # Định nghĩa feature_sets\n",
    "    feature_sets = [\n",
    "        [\"Quant\",  \"10percentage\", \"12percentage\", \"English\", \"ComputerProgramming\", \"ComputerScience\"],\n",
    "        [\"Quant\",  \"12percentage\", \"English\",\"ComputerProgramming\", \"ComputerScience\" ],\n",
    "        [\"Quant\",  \"12percentage\",\"ComputerProgramming\", \"ComputerScience\" ]\n",
    "    ]\n",
    "\n",
    "    for features in feature_sets:\n",
    "        X = train[features]\n",
    "        y = train['Salary']\n",
    "\n",
    "        mae_scores = []\n",
    "\n",
    "        kf = KFold(n_splits=k_fold, shuffle=True, random_state=42)\n",
    "        for train_idx, test_idx in kf.split(X):\n",
    "            X_train, X_test = X.iloc[train_idx], X.iloc[test_idx]\n",
    "            y_train, y_test = y.iloc[train_idx], y.iloc[test_idx]\n",
    "\n",
    "            model = LinearRegression()\n",
    "            model.fit(X_train, y_train)\n",
    "            y_pred = model.predict(X_test)\n",
    "            mae = mean_absolute_error(y_test, y_pred)\n",
    "            mae_scores.append(mae)\n",
    "\n",
    "        avg_mae = sum(mae_scores) / k_fold\n",
    "        mae_arr.append(avg_mae)\n",
    "\n",
    "        if avg_mae < best_mae:\n",
    "            best_mae = avg_mae\n",
    "            best_features = features\n",
    "\n",
    "    return best_mae, best_features, mae_arr\n",
    "   "
   ]
  },
  {
   "cell_type": "markdown",
   "metadata": {},
   "source": [
    "## Thử nghiệm, so sánh các mô hình"
   ]
  },
  {
   "cell_type": "code",
   "execution_count": 36,
   "metadata": {},
   "outputs": [
    {
     "name": "stdout",
     "output_type": "stream",
     "text": [
      "STT\tMô hình\t\t\tMAE\n",
      "1\tSử dụng 6 đặc trưng ['Quant', '10percentage', '12percentage', 'English', 'ComputerProgramming', 'ComputerScience']\t111474.994\n",
      "2\tSử dụng 5 đặc trưng ['Quant', '12percentage', 'English', 'ComputerProgramming', 'ComputerScience']\t111879.040\n",
      "3\tSử dụng 4 đặc trưng ['Quant', '12percentage', 'ComputerProgramming', 'ComputerScience']\t113072.880\n",
      "Best Features: ['Quant', '10percentage', '12percentage', 'English', 'ComputerProgramming', 'ComputerScience']\n",
      "Best MAE: 111474.99424251467\n",
      "Đặc trưng được chọn: ['Quant', '10percentage', '12percentage', 'English', 'ComputerProgramming', 'ComputerScience']\n"
     ]
    }
   ],
   "source": [
    "\n",
    "best_mae, best_features, mae_arr = best_multifeature(train, k_fold=5)\n",
    "feature_sets = [\n",
    "    [\"Quant\",  \"10percentage\", \"12percentage\", \"English\", \"ComputerProgramming\", \"ComputerScience\"],\n",
    "    [\"Quant\",  \"12percentage\", \"English\",\"ComputerProgramming\", \"ComputerScience\" ],\n",
    "    [\"Quant\",  \"12percentage\",\"ComputerProgramming\", \"ComputerScience\" ]\n",
    "]\n",
    "\n",
    "# In ra các kết quả cross-validation\n",
    "print(\"STT\\tMô hình\\t\\t\\tMAE\")\n",
    "for idx, mae in enumerate(mae_arr):\n",
    "    features_used = feature_sets[idx]\n",
    "    print(f\"{idx+1}\\tSử dụng {len(features_used)} đặc trưng {features_used}\\t{mae:.3f}\")\n",
    "print(\"Best Features:\", best_features)\n",
    "print(\"Best MAE:\", best_mae)\n",
    "\n",
    "# In ra thông tin mô hình tốt nhất\n",
    "best_features_names = best_features\n",
    "print(\"Đặc trưng được chọn:\", best_features_names)\n",
    "\n"
   ]
  },
  {
   "cell_type": "code",
   "execution_count": 37,
   "metadata": {},
   "outputs": [],
   "source": [
    "# Huấn luyện lại mô hình my_best_model trên toàn bộ tập huấn luyện\n",
    "\n",
    "X_train_best = train[best_features]\n",
    "y_train_best = train['Salary']\n",
    "model = LinearRegression()\n",
    "model.fit(X_train_best, y_train_best)\n",
    "X_test_best = test[best_features]\n",
    "y_test_best = test['Salary']"
   ]
  },
  {
   "cell_type": "code",
   "execution_count": 38,
   "metadata": {},
   "outputs": [
    {
     "name": "stdout",
     "output_type": "stream",
     "text": [
      "MAE : 103143.290\n"
     ]
    }
   ],
   "source": [
    "# Gọi hàm MAE trên tập kiểm tra với mô hình my_best_model\n",
    "\n",
    "y_pred_best = model.predict(X_test_best)\n",
    "mae_best = mean_absolute_error(y_test_best, y_pred_best)\n",
    "print(f\"MAE : {mae_best:.3f}\")\n"
   ]
  },
  {
   "cell_type": "markdown",
   "metadata": {},
   "source": [
    "Công thức hồi quy (phần trọng số làm tròn đến 3 chữ số thập phân, ví dụ 0.012345 $\\to$ 0.012)\n",
    "\n",
    "$$\\text{Salary} = -86901.354 + 213.672 * Quant + 965.629 * 10percentage + 974.106 * 12percentage + 207.983 * English \\\\\n",
    "+ 136.923 * ComputerProgramming - 164.443 * ComputerScience   $$"
   ]
  },
  {
   "cell_type": "code",
   "execution_count": null,
   "metadata": {},
   "outputs": [],
   "source": []
  }
 ],
 "metadata": {
  "kernelspec": {
   "display_name": "Python 3 (ipykernel)",
   "language": "python",
   "name": "python3"
  },
  "language_info": {
   "codemirror_mode": {
    "name": "ipython",
    "version": 3
   },
   "file_extension": ".py",
   "mimetype": "text/x-python",
   "name": "python",
   "nbconvert_exporter": "python",
   "pygments_lexer": "ipython3",
   "version": "3.10.9"
  },
  "vscode": {
   "interpreter": {
    "hash": "15af99fd1a1a3f0a3416ea421564e792a8676a13670c2eed127d89ab0518a27b"
   }
  }
 },
 "nbformat": 4,
 "nbformat_minor": 2
}
